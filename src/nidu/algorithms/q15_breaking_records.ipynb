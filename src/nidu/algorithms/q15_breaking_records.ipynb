{
 "cells": [
  {
   "cell_type": "markdown",
   "metadata": {},
   "source": [
    "# [Breaking The Records](https://www.hackerrank.com/challenges/breaking-best-and-worst-records/problem)"
   ]
  },
  {
   "cell_type": "code",
   "execution_count": null,
   "metadata": {},
   "outputs": [],
   "source": [
    "import math\n",
    "import os\n",
    "import random\n",
    "import re\n",
    "import sys\n",
    "\n",
    "\n",
    "def breakingRecords(scores):\n",
    "    highestscore = scores[0]\n",
    "    highestscorecount = 0\n",
    "    lowestscore = scores[0]\n",
    "    lowestscorecount = 0\n",
    "    for i in range(1,len(scores)):\n",
    "        if(highestscore < scores[i]):\n",
    "            highestscore = scores[i]\n",
    "            highestscorecount += 1\n",
    "        elif(lowestscore > scores[i]):\n",
    "            lowestscore = scores[i]\n",
    "            lowestscorecount += 1\n",
    "    return highestscorecount,lowestscorecount\n",
    "if __name__ == '__main__':\n",
    "    fptr = open(os.environ['OUTPUT_PATH'], 'w')\n",
    "\n",
    "    n = int(input().strip())\n",
    "\n",
    "    scores = list(map(int, input().rstrip().split()))\n",
    "\n",
    "    result = breakingRecords(scores)\n",
    "\n",
    "    fptr.write(' '.join(map(str, result)))\n",
    "    fptr.write('\\n')\n",
    "\n",
    "    fptr.close()"
   ]
  }
 ],
 "metadata": {
  "language_info": {
   "name": "python"
  },
  "orig_nbformat": 4
 },
 "nbformat": 4,
 "nbformat_minor": 2
}
