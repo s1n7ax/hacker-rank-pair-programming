{
 "cells": [
  {
   "cell_type": "markdown",
   "metadata": {},
   "source": [
    "# [Apple and Orange](https://www.hackerrank.com/challenges/apple-and-orange/problem?isFullScreen=true&fbclid=IwAR2JNnHqQbIWMSqM6uXuAy_MUEh49QZr-55x4WmOCsn0p2iHdVWH3rt8_w8)"
   ]
  },
  {
   "cell_type": "code",
   "execution_count": null,
   "metadata": {},
   "outputs": [],
   "source": [
    "import math\n",
    "import os\n",
    "import random\n",
    "import re\n",
    "import sys\n",
    "\n",
    "def countApplesAndOranges(s, t, a, b, apples, oranges):\n",
    "    applecount = 0\n",
    "    orangecount = 0\n",
    "    for apple in apples:\n",
    "        if(s <= (a + apple) <= t):\n",
    "            applecount += 1   \n",
    "    for orange in oranges:\n",
    "        if(s <= (b + orange) <= t):\n",
    "            orangecount += 1\n",
    "    print applecount\n",
    "    print orangecount\n",
    "\n",
    "if __name__ == '__main__':\n",
    "    first_multiple_input = raw_input().rstrip().split()\n",
    "\n",
    "    s = int(first_multiple_input[0])\n",
    "\n",
    "    t = int(first_multiple_input[1])\n",
    "\n",
    "    second_multiple_input = raw_input().rstrip().split()\n",
    "\n",
    "    a = int(second_multiple_input[0])\n",
    "\n",
    "    b = int(second_multiple_input[1])\n",
    "\n",
    "    third_multiple_input = raw_input().rstrip().split()\n",
    "\n",
    "    m = int(third_multiple_input[0])\n",
    "\n",
    "    n = int(third_multiple_input[1])\n",
    "\n",
    "    apples = map(int, raw_input().rstrip().split())\n",
    "\n",
    "    oranges = map(int, raw_input().rstrip().split())\n",
    "\n",
    "    countApplesAndOranges(s, t, a, b, apples, oranges)\n",
    "\n",
    "\n"
   ]
  }
 ],
 "metadata": {
  "language_info": {
   "name": "python"
  },
  "orig_nbformat": 4
 },
 "nbformat": 4,
 "nbformat_minor": 2
}
