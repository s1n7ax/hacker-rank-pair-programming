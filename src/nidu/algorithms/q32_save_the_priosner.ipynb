{
 "cells": [
  {
   "cell_type": "markdown",
   "metadata": {},
   "source": [
    "# [Save the Prisoner](https://www.hackerrank.com/challenges/save-the-prisoner/problem)"
   ]
  },
  {
   "cell_type": "code",
   "execution_count": null,
   "metadata": {},
   "outputs": [],
   "source": [
    "import math\n",
    "import os\n",
    "import random\n",
    "import re\n",
    "import sys\n",
    "\n",
    "\n",
    "def saveThePrisoner(n, m, s):\n",
    "    r = m - (n - s) - 1\n",
    "    remainder = r%n\n",
    "    if(remainder == 0):\n",
    "        remainder = n\n",
    "    return(remainder)\n",
    "\n",
    "if __name__ == '__main__':\n",
    "    fptr = open(os.environ['OUTPUT_PATH'], 'w')\n",
    "\n",
    "    t = int(input().strip())\n",
    "\n",
    "    for t_itr in range(t):\n",
    "        first_multiple_input = input().rstrip().split()\n",
    "\n",
    "        n = int(first_multiple_input[0])\n",
    "\n",
    "        m = int(first_multiple_input[1])\n",
    "\n",
    "        s = int(first_multiple_input[2])\n",
    "\n",
    "        result = saveThePrisoner(n, m, s)\n",
    "\n",
    "        fptr.write(str(result) + '\\n')\n",
    "\n",
    "    fptr.close()"
   ]
  }
 ],
 "metadata": {
  "kernelspec": {
   "display_name": "Python 3.10.2 64-bit",
   "language": "python",
   "name": "python3"
  },
  "language_info": {
   "name": "python",
   "version": "3.10.2"
  },
  "orig_nbformat": 4,
  "vscode": {
   "interpreter": {
    "hash": "f8f00a04387af4a38c5925046ae6e2d7856fe7b1f753b318d08709c23a24164e"
   }
  }
 },
 "nbformat": 4,
 "nbformat_minor": 2
}
