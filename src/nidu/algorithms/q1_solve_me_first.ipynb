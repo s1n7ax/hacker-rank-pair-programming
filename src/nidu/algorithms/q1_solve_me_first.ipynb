{
 "cells": [
  {
   "cell_type": "markdown",
   "metadata": {},
   "source": [
    "# [Solve Me First](https://www.hackerrank.com/challenges/solve-me-first/problem)"
   ]
  },
  {
   "cell_type": "code",
   "execution_count": 3,
   "metadata": {},
   "outputs": [],
   "source": [
    "def solveMeFirst(a,b):\n",
    "\treturn a+b\n",
    "\n",
    "\n",
    "num1 = input()\n",
    "num2 = input()\n",
    "res = solveMeFirst(num1,num2)\n",
    "print (res)"
   ]
  }
 ],
 "metadata": {
  "kernelspec": {
   "display_name": "Python 3.10.2 64-bit",
   "language": "python",
   "name": "python3"
  },
  "language_info": {
   "codemirror_mode": {
    "name": "ipython",
    "version": 3
   },
   "file_extension": ".py",
   "mimetype": "text/x-python",
   "name": "python",
   "nbconvert_exporter": "python",
   "pygments_lexer": "ipython3",
   "version": "3.10.2"
  },
  "orig_nbformat": 4,
  "vscode": {
   "interpreter": {
    "hash": "f8f00a04387af4a38c5925046ae6e2d7856fe7b1f753b318d08709c23a24164e"
   }
  }
 },
 "nbformat": 4,
 "nbformat_minor": 2
}
