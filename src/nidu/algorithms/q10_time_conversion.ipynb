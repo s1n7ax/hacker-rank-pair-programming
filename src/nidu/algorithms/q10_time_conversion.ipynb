{
 "cells": [
  {
   "cell_type": "markdown",
   "metadata": {},
   "source": [
    "# [Time Conversion](https://www.hackerrank.com/challenges/time-conversion/problem?fbclid=IwAR3sRFxgZvnjZlAk9l-i_r2N3iFZreDOCTy0YNvMXksUvU6151fAEX1Xqwk)"
   ]
  },
  {
   "cell_type": "code",
   "execution_count": null,
   "metadata": {},
   "outputs": [],
   "source": [
    "import math\n",
    "import os\n",
    "import random\n",
    "import re\n",
    "import sys\n",
    "\n",
    "\n",
    "def timeConversion(s):\n",
    "    temparr = s.split(\":\")\n",
    "    timestr = \":\" + str(temparr[1]) + \":\"        \n",
    "    if((\"PM\" in s) and (int(temparr[0]) == 12)):\n",
    "        timestr =  s.split(\"PM\")[0]    \n",
    "    elif(\"PM\" in s):\n",
    "        timestr = str(int(temparr[0]) + 12) + timestr + str(temparr[2].split(\"PM\")[0]) \n",
    "    elif((\"AM\" in s) and (int(temparr[0]) == 12)):\n",
    "        timestr =  \"00\" + timestr + str(temparr[2].split(\"AM\")[0]) \n",
    "    elif(\"AM\" in s):\n",
    "        timestr = s.split(\"AM\")[0]\n",
    "    return(timestr)\n",
    "if __name__ == '__main__':\n",
    "    fptr = open(os.environ['OUTPUT_PATH'], 'w')\n",
    "\n",
    "    s = raw_input()\n",
    "\n",
    "    result = timeConversion(s)\n",
    "\n"
   ]
  }
 ],
 "metadata": {
  "language_info": {
   "name": "python"
  },
  "orig_nbformat": 4
 },
 "nbformat": 4,
 "nbformat_minor": 2
}
