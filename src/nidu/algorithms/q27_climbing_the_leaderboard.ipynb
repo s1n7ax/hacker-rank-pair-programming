{
 "cells": [
  {
   "cell_type": "markdown",
   "metadata": {},
   "source": [
    "# [Climbing the Leaderboard](https://www.hackerrank.com/challenges/climbing-the-leaderboard/problem)"
   ]
  },
  {
   "cell_type": "code",
   "execution_count": null,
   "metadata": {},
   "outputs": [],
   "source": [
    "import math\n",
    "import os\n",
    "import random\n",
    "import re\n",
    "import sys\n",
    "import bisect\n",
    "\n",
    "def climbingLeaderboard(ranked, player):\n",
    "    outputranks = []\n",
    "    key_list = list(reversed(dict.fromkeys(ranked)))\n",
    "    player_list = list(dict.fromkeys(player))\n",
    "    for i in player_list: \n",
    "        elecount = player.count(i)\n",
    "        if(not(i in key_list)):\n",
    "            bisect.insort(key_list,i)\n",
    "        if(key_list.index(i) == 0):\n",
    "            for j in range(elecount):\n",
    "                outputranks.append(len(key_list))\n",
    "            key_list.remove(i)\n",
    "        else:\n",
    "            for j in range(elecount):\n",
    "                outputranks.append(len(key_list) - key_list.index(i))\n",
    "            key_list.remove(i)\n",
    "    return(outputranks)\n",
    "\n",
    "if __name__ == '__main__':\n",
    "    fptr = open(os.environ['OUTPUT_PATH'], 'w')\n",
    "\n",
    "    ranked_count = int(input().strip())\n",
    "\n",
    "    ranked = list(map(int, input().rstrip().split()))\n",
    "\n",
    "    player_count = int(input().strip())\n",
    "\n",
    "    player = list(map(int, input().rstrip().split()))\n",
    "\n",
    "    result = climbingLeaderboard(ranked, player)\n",
    "\n",
    "    fptr.write('\\n'.join(map(str, result)))\n",
    "    fptr.write('\\n')\n",
    "\n",
    "    fptr.close()"
   ]
  }
 ],
 "metadata": {
  "kernelspec": {
   "display_name": "Python 3.10.2 64-bit",
   "language": "python",
   "name": "python3"
  },
  "language_info": {
   "name": "python",
   "version": "3.10.2"
  },
  "orig_nbformat": 4,
  "vscode": {
   "interpreter": {
    "hash": "f8f00a04387af4a38c5925046ae6e2d7856fe7b1f753b318d08709c23a24164e"
   }
  }
 },
 "nbformat": 4,
 "nbformat_minor": 2
}
