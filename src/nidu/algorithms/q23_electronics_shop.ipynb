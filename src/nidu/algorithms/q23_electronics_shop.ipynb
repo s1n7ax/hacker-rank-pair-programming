{
 "cells": [
  {
   "cell_type": "markdown",
   "metadata": {},
   "source": [
    "# [Electronics Shop](https://www.hackerrank.com/challenges/electronics-shop/problem)"
   ]
  },
  {
   "cell_type": "code",
   "execution_count": null,
   "metadata": {},
   "outputs": [],
   "source": [
    "import os\n",
    "import sys\n",
    "\n",
    "def getMoneySpent(keyboards, drives, b):\n",
    "    newkeyboardsarr = sorted([i for i in keyboards if i < b ], reverse=True)\n",
    "    newdrivesarr = sorted([i for i in drives if i < b ], reverse=True)\n",
    "    maxval = -1\n",
    "    for i in newkeyboardsarr:\n",
    "        for j in newdrivesarr:\n",
    "            if(i + j > maxval and i + j <= b):\n",
    "                maxval = i + j\n",
    "    return maxval\n",
    "        \n",
    "if __name__ == '__main__':\n",
    "    fptr = open(os.environ['OUTPUT_PATH'], 'w')\n",
    "\n",
    "    bnm = input().split()\n",
    "\n",
    "    b = int(bnm[0])\n",
    "\n",
    "    n = int(bnm[1])\n",
    "\n",
    "    m = int(bnm[2])\n",
    "\n",
    "    keyboards = list(map(int, input().rstrip().split()))\n",
    "\n",
    "    drives = list(map(int, input().rstrip().split()))\n",
    "\n",
    "\n",
    "    moneySpent = getMoneySpent(keyboards, drives, b)\n",
    "\n",
    "    fptr.write(str(moneySpent) + '\\n')\n",
    "\n",
    "    fptr.close()\n"
   ]
  }
 ],
 "metadata": {
  "kernelspec": {
   "display_name": "Python 3.10.2 64-bit",
   "language": "python",
   "name": "python3"
  },
  "language_info": {
   "name": "python",
   "version": "3.10.2"
  },
  "orig_nbformat": 4,
  "vscode": {
   "interpreter": {
    "hash": "f8f00a04387af4a38c5925046ae6e2d7856fe7b1f753b318d08709c23a24164e"
   }
  }
 },
 "nbformat": 4,
 "nbformat_minor": 2
}
