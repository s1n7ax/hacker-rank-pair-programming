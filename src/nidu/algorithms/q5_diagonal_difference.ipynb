{
 "cells": [
  {
   "cell_type": "markdown",
   "metadata": {},
   "source": [
    "# [Diagonal Difference](https://www.hackerrank.com/challenges/diagonal-difference/problem)"
   ]
  },
  {
   "cell_type": "code",
   "execution_count": null,
   "metadata": {},
   "outputs": [],
   "source": [
    "import math\n",
    "import os\n",
    "import random\n",
    "import re\n",
    "import sys\n",
    "\n",
    "\n",
    "def diagonalDifference(arr):\n",
    "    primarydiag = 0\n",
    "    secondarydiag = 0\n",
    "    for i in range(len(arr)):\n",
    "        primarydiag += arr[i][i]\n",
    "        secondarydiag += arr[i][len(arr) - (i+1)]\n",
    "    return (abs(primarydiag-secondarydiag))\n",
    "\n",
    "if __name__ == '__main__':\n",
    "    fptr = open(os.environ['OUTPUT_PATH'], 'w')\n",
    "\n",
    "    n = int(raw_input().strip())\n",
    "\n",
    "    arr = []\n",
    "\n",
    "    for _ in xrange(n):\n",
    "        arr.append(map(int, raw_input().rstrip().split()))\n",
    "\n",
    "    result = diagonalDifference(arr)\n",
    "\n",
    "    fptr.write(str(result) + '\\n')\n",
    "\n",
    "    fptr.close()"
   ]
  }
 ],
 "metadata": {
  "language_info": {
   "name": "python"
  },
  "orig_nbformat": 4
 },
 "nbformat": 4,
 "nbformat_minor": 2
}
