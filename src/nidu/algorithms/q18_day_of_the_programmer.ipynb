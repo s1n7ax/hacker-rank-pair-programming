{
 "cells": [
  {
   "cell_type": "markdown",
   "metadata": {},
   "source": [
    "# [Day of the Programmer](https://www.hackerrank.com/challenges/day-of-the-programmer/problem)"
   ]
  },
  {
   "cell_type": "code",
   "execution_count": null,
   "metadata": {},
   "outputs": [],
   "source": [
    "#!/bin/python3\n",
    "\n",
    "import math\n",
    "import os\n",
    "import random\n",
    "import re\n",
    "import sys\n",
    "\n",
    "#\n",
    "# Complete the 'dayOfProgrammer' function below.\n",
    "#\n",
    "# The function is expected to return a STRING.\n",
    "# The function accepts INTEGER year as parameter.\n",
    "#\n",
    "\n",
    "def dayOfProgrammer(year):\n",
    "    leapyear = False\n",
    "    if(year % 400 == 0 and year > 1918):\n",
    "        leapyear = True\n",
    "    elif (year % 4 == 0 and year < 1918):\n",
    "        leapyear = True\n",
    "    elif (year % 100 != 0 and year % 4 == 0 and year > 1918):\n",
    "        leapyear = True \n",
    "    \n",
    "    if(leapyear):\n",
    "        return(\"12.09.\" + str(year))    \n",
    "    elif (year == 1918):\n",
    "        return(\"26.09.\" + str(year))\n",
    "    elif(not leapyear):\n",
    "        return(\"13.09.\" + str(year))\n",
    "\n",
    "if __name__ == '__main__':\n",
    "    fptr = open(os.environ['OUTPUT_PATH'], 'w')\n",
    "\n",
    "    year = int(input().strip())\n",
    "\n",
    "    result = dayOfProgrammer(year)\n",
    "\n",
    "    fptr.write(result + '\\n')\n",
    "\n",
    "    fptr.close()\n"
   ]
  }
 ],
 "metadata": {
  "kernelspec": {
   "display_name": "Python 3.10.2 64-bit",
   "language": "python",
   "name": "python3"
  },
  "language_info": {
   "name": "python",
   "version": "3.10.2"
  },
  "orig_nbformat": 4,
  "vscode": {
   "interpreter": {
    "hash": "f8f00a04387af4a38c5925046ae6e2d7856fe7b1f753b318d08709c23a24164e"
   }
  }
 },
 "nbformat": 4,
 "nbformat_minor": 2
}
