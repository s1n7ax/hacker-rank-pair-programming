{
 "cells": [
  {
   "cell_type": "markdown",
   "metadata": {},
   "source": [
    "# [Min-Max Sum](https://www.hackerrank.com/challenges/mini-max-sum/problem?isFullScreen=true&fbclid=IwAR208VXtzcOT4KjvP1HlCMXf48Aw2rOB9aElu7c7ubQWpi_Ozp4hiwdL3RE)"
   ]
  },
  {
   "cell_type": "code",
   "execution_count": null,
   "metadata": {},
   "outputs": [],
   "source": [
    "import math\n",
    "import os\n",
    "import random\n",
    "import re\n",
    "import sys\n",
    "\n",
    "\n",
    "def miniMaxSum(arr):\n",
    "    arr.sort()\n",
    "    minsum = 0\n",
    "    maxsum = 0\n",
    "    if(len(arr) > 4):\n",
    "        for i in range(4):\n",
    "            minsum += arr[i]\n",
    "        for i in range(len(arr)-1,len(arr)-5,-1):\n",
    "            maxsum += arr[i]\n",
    "    print minsum,maxsum\n",
    "\n",
    "if __name__ == '__main__':\n",
    "\n",
    "    arr = map(int, raw_input().rstrip().split())\n",
    "\n",
    "    miniMaxSum(arr)\n",
    "\n"
   ]
  }
 ],
 "metadata": {
  "language_info": {
   "name": "python"
  },
  "orig_nbformat": 4
 },
 "nbformat": 4,
 "nbformat_minor": 2
}
