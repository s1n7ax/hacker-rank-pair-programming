{
 "cells": [
  {
   "cell_type": "markdown",
   "metadata": {},
   "source": [
    "# [Birthday Cake Candles](https://www.hackerrank.com/challenges/birthday-cake-candles/problem?fbclid=IwAR3805rFk79Bn1AYJqKA0eZrRE1PvH7MFiXP0jKRz3EJWKVXxfXxVlVlayA)"
   ]
  },
  {
   "cell_type": "code",
   "execution_count": null,
   "metadata": {},
   "outputs": [],
   "source": [
    "import math\n",
    "import os\n",
    "import random\n",
    "import re\n",
    "import sys\n",
    "from collections import Counter\n",
    "\n",
    "def birthdayCakeCandles(candles):\n",
    "    sortedcandles = sorted(candles)\n",
    "    a = dict(Counter(sortedcandles))\n",
    "    return(a[sortedcandles[len(sortedcandles)-1]])\n",
    "\n",
    "if __name__ == '__main__':\n",
    "    fptr = open(os.environ['OUTPUT_PATH'], 'w')\n",
    "\n",
    "    candles_count = int(raw_input().strip())\n",
    "\n",
    "    candles = map(int, raw_input().rstrip().split())\n",
    "\n",
    "    result = birthdayCakeCandles(candles)\n",
    "\n",
    "    fptr.write(str(result) + '\\n')\n",
    "\n",
    "    fptr.close()\n",
    "\n"
   ]
  }
 ],
 "metadata": {
  "language_info": {
   "name": "python"
  },
  "orig_nbformat": 4
 },
 "nbformat": 4,
 "nbformat_minor": 2
}
