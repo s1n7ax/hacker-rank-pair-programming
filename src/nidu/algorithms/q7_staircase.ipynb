{
 "cells": [
  {
   "cell_type": "markdown",
   "metadata": {},
   "source": [
    "# [Staircase](https://www.hackerrank.com/challenges/staircase/problem?fbclid=IwAR16fClRRkPeIcmhJHTmMz32IawFA7eOy821cwD78oU1D0V9xYgYws61LE8)"
   ]
  },
  {
   "cell_type": "code",
   "execution_count": null,
   "metadata": {},
   "outputs": [],
   "source": [
    "import math\n",
    "import os\n",
    "import random\n",
    "import re\n",
    "import sys\n",
    "\n",
    "def staircase(n):\n",
    "    for x in range(1,n+1):\n",
    "        string = \" \"*(n-x) + \"#\"*x\n",
    "        print(string)\n",
    "\n",
    "if __name__ == '__main__':\n",
    "    n = int(raw_input().strip())\n",
    "\n",
    "    staircase(n)\n"
   ]
  }
 ],
 "metadata": {
  "language_info": {
   "name": "python"
  },
  "orig_nbformat": 4
 },
 "nbformat": 4,
 "nbformat_minor": 2
}
