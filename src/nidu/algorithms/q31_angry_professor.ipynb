{
 "cells": [
  {
   "cell_type": "markdown",
   "metadata": {},
   "source": [
    "# [Angry Professor](https://www.hackerrank.com/challenges/angry-professor/problem)"
   ]
  },
  {
   "cell_type": "code",
   "execution_count": null,
   "metadata": {},
   "outputs": [],
   "source": [
    "import math\n",
    "import os\n",
    "import random\n",
    "import re\n",
    "import sys\n",
    "\n",
    "\n",
    "def angryProfessor(k, a):\n",
    "    sumofearlycomers = 0\n",
    "    cancelled = \"YES\"\n",
    "    for i in a:\n",
    "        if(i <= 0):\n",
    "            sumofearlycomers += 1\n",
    "        if(sumofearlycomers >= k):\n",
    "            cancelled = \"NO\"\n",
    "            break\n",
    "    return(cancelled)\n",
    "            \n",
    "\n",
    "if __name__ == '__main__':\n",
    "    fptr = open(os.environ['OUTPUT_PATH'], 'w')\n",
    "\n",
    "    t = int(input().strip())\n",
    "\n",
    "    for t_itr in range(t):\n",
    "        first_multiple_input = input().rstrip().split()\n",
    "\n",
    "        n = int(first_multiple_input[0])\n",
    "\n",
    "        k = int(first_multiple_input[1])\n",
    "\n",
    "        a = list(map(int, input().rstrip().split()))\n",
    "\n",
    "        result = angryProfessor(k, a)\n",
    "\n",
    "        fptr.write(result + '\\n')\n",
    "\n",
    "    fptr.close()"
   ]
  }
 ],
 "metadata": {
  "kernelspec": {
   "display_name": "Python 3.10.2 64-bit",
   "language": "python",
   "name": "python3"
  },
  "language_info": {
   "name": "python",
   "version": "3.10.2"
  },
  "orig_nbformat": 4,
  "vscode": {
   "interpreter": {
    "hash": "f8f00a04387af4a38c5925046ae6e2d7856fe7b1f753b318d08709c23a24164e"
   }
  }
 },
 "nbformat": 4,
 "nbformat_minor": 2
}
