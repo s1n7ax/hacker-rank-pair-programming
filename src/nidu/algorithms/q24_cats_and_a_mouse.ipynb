{
 "cells": [
  {
   "cell_type": "markdown",
   "metadata": {},
   "source": [
    "# [Cats and a Mouse](https://www.hackerrank.com/challenges/cats-and-a-mouse/problem)"
   ]
  },
  {
   "cell_type": "code",
   "execution_count": null,
   "metadata": {},
   "outputs": [],
   "source": [
    "import math\n",
    "import os\n",
    "import random\n",
    "import re\n",
    "import sys\n",
    "\n",
    "# Complete the catAndMouse function below.\n",
    "def catAndMouse(x, y, z):\n",
    "    printstr = \"\"\n",
    "    if(abs(z - y) == abs(z - x)):\n",
    "        printstr = \"Mouse C\"\n",
    "    elif(abs(z - y) > abs(z - x)):\n",
    "        printstr = \"Cat A\" \n",
    "    else:\n",
    "        printstr = \"Cat B\"\n",
    "    return printstr\n",
    "\n",
    "if __name__ == '__main__':\n",
    "    fptr = open(os.environ['OUTPUT_PATH'], 'w')\n",
    "\n",
    "    q = int(input())\n",
    "\n",
    "    for q_itr in range(q):\n",
    "        xyz = input().split()\n",
    "\n",
    "        x = int(xyz[0])\n",
    "\n",
    "        y = int(xyz[1])\n",
    "\n",
    "        z = int(xyz[2])\n",
    "\n",
    "        result = catAndMouse(x, y, z)\n",
    "\n",
    "        fptr.write(result + '\\n')\n",
    "\n",
    "    fptr.close()\n"
   ]
  }
 ],
 "metadata": {
  "kernelspec": {
   "display_name": "Python 3.10.2 64-bit",
   "language": "python",
   "name": "python3"
  },
  "language_info": {
   "name": "python",
   "version": "3.10.2"
  },
  "orig_nbformat": 4,
  "vscode": {
   "interpreter": {
    "hash": "f8f00a04387af4a38c5925046ae6e2d7856fe7b1f753b318d08709c23a24164e"
   }
  }
 },
 "nbformat": 4,
 "nbformat_minor": 2
}
