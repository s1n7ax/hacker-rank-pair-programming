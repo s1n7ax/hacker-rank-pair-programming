{
 "cells": [
  {
   "cell_type": "markdown",
   "metadata": {},
   "source": [
    "# [Grading Students](https://www.hackerrank.com/challenges/grading/problem?isFullScreen=true&fbclid=IwAR1q9nTTVzxYNxUBDuGke3xFC0Gvrt3N9fvjg5NJcrzHI7nK0TRK6ZzZmKY)"
   ]
  },
  {
   "cell_type": "code",
   "execution_count": null,
   "metadata": {},
   "outputs": [],
   "source": [
    "import math\n",
    "import os\n",
    "import random\n",
    "import re\n",
    "import sys\n",
    "\n",
    "\n",
    "def gradingStudents(grades):\n",
    "    finalvals = []\n",
    "    for i in grades:\n",
    "        roundoffval = int(math.ceil(i / 5.0)) * 5\n",
    "        if(i < 38):\n",
    "            finalvals.append(int(i))\n",
    "        elif(roundoffval - i < 3):\n",
    "            finalvals.append(roundoffval)\n",
    "        else:\n",
    "            finalvals.append(int(i))\n",
    "    return(finalvals)\n",
    "\n",
    "if __name__ == '__main__':\n",
    "    fptr = open(os.environ['OUTPUT_PATH'], 'w')\n",
    "\n",
    "    grades_count = int(raw_input().strip())\n",
    "\n",
    "    grades = []\n",
    "\n",
    "    for _ in xrange(grades_count):\n",
    "        grades_item = int(raw_input().strip())\n",
    "        grades.append(grades_item)\n",
    "\n",
    "    result = gradingStudents(grades)\n",
    "\n",
    "    fptr.write('\\n'.join(map(str, result)))\n",
    "    fptr.write('\\n')\n",
    "\n",
    "    fptr.close()"
   ]
  }
 ],
 "metadata": {
  "language_info": {
   "name": "python"
  },
  "orig_nbformat": 4
 },
 "nbformat": 4,
 "nbformat_minor": 2
}
