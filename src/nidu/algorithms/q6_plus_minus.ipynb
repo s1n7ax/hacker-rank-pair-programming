{
 "cells": [
  {
   "cell_type": "markdown",
   "metadata": {},
   "source": [
    "# [Plus Minus](https://www.hackerrank.com/challenges/plus-minus/problem?isFullScreen=true)"
   ]
  },
  {
   "cell_type": "code",
   "execution_count": null,
   "metadata": {},
   "outputs": [],
   "source": [
    "import math\n",
    "import os\n",
    "import random\n",
    "import re\n",
    "import sys\n",
    "\n",
    "def plusMinus(arr,n):\n",
    "    positiveints = 0.000000\n",
    "    negativeveints = 0.000000\n",
    "    zeros = 0.000000\n",
    "    for x in arr:\n",
    "        if(x > 0):\n",
    "            positiveints += 1\n",
    "        elif(x < 0):\n",
    "            negativeveints += 1\n",
    "        else:\n",
    "            zeros += 1\n",
    "    positiveintsratio = positiveints/n\n",
    "    negativeveintsratio = negativeveints/n\n",
    "    zerosratio = zeros/n\n",
    "    print (positiveintsratio)\n",
    "    print (negativeveintsratio)\n",
    "    print (zerosratio)\n",
    "\n",
    "if __name__ == '__main__':\n",
    "    n = int(raw_input().strip())\n",
    "\n",
    "    arr = map(int, raw_input().rstrip().split())\n",
    "\n",
    "    plusMinus(arr,n)\n"
   ]
  }
 ],
 "metadata": {
  "language_info": {
   "name": "python"
  },
  "orig_nbformat": 4
 },
 "nbformat": 4,
 "nbformat_minor": 2
}
