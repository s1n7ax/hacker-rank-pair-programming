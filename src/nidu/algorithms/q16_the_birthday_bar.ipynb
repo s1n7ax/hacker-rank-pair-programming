{
 "cells": [
  {
   "cell_type": "markdown",
   "metadata": {},
   "source": [
    "# [The Birthday Bar](https://www.hackerrank.com/challenges/the-birthday-bar/problem)"
   ]
  },
  {
   "cell_type": "code",
   "execution_count": null,
   "metadata": {},
   "outputs": [],
   "source": [
    "#!/bin/python3\n",
    "\n",
    "import math\n",
    "import os\n",
    "import random\n",
    "import re\n",
    "import sys\n",
    "\n",
    "def birthday(s, d, m):\n",
    "    count = 0\n",
    "    sumofvals = 0\n",
    "    arr = s\n",
    "    if(len(s) > m):\n",
    "        for i in range(len(s)):\n",
    "            arr = s[i:m+i]\n",
    "            if(sum(arr) == d):\n",
    "                count += 1\n",
    "    elif(len(s) == m and sum(s) == d):\n",
    "        count = 1             \n",
    "    return(count)           \n",
    "\n",
    "if __name__ == '__main__':\n",
    "    fptr = open(os.environ['OUTPUT_PATH'], 'w')\n",
    "\n",
    "    n = int(input().strip())\n",
    "\n",
    "    s = list(map(int, input().rstrip().split()))\n",
    "\n",
    "    first_multiple_input = input().rstrip().split()\n",
    "\n",
    "    d = int(first_multiple_input[0])\n",
    "\n",
    "    m = int(first_multiple_input[1])\n",
    "\n",
    "    result = birthday(s, d, m)\n",
    "\n",
    "    fptr.write(str(result) + '\\n')\n",
    "\n",
    "    fptr.close()\n"
   ]
  }
 ],
 "metadata": {
  "kernelspec": {
   "display_name": "Python 3.10.2 64-bit",
   "language": "python",
   "name": "python3"
  },
  "language_info": {
   "name": "python",
   "version": "3.10.2"
  },
  "orig_nbformat": 4,
  "vscode": {
   "interpreter": {
    "hash": "f8f00a04387af4a38c5925046ae6e2d7856fe7b1f753b318d08709c23a24164e"
   }
  }
 },
 "nbformat": 4,
 "nbformat_minor": 2
}
