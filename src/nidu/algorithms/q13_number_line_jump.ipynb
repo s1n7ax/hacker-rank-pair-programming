{
 "cells": [
  {
   "cell_type": "markdown",
   "metadata": {},
   "source": [
    "# [Number Line Jump](https://www.hackerrank.com/challenges/kangaroo/problem)"
   ]
  },
  {
   "cell_type": "code",
   "execution_count": null,
   "metadata": {},
   "outputs": [],
   "source": [
    "import math\n",
    "import os\n",
    "import random\n",
    "import re\n",
    "import sys\n",
    "\n",
    "\n",
    "def kangaroo(x1, v1, x2, v2):\n",
    "    val = \"NO\"\n",
    "    if(((x1 < x2) and (v1 <= v2)) or ((x1 > x2) and (v1 > v2))):\n",
    "        val = \"NO\"\n",
    "    elif((x2-x1)%abs(v2-v1) == 0):\n",
    "         val = \"YES\"\n",
    "    return(val)\n",
    "\n",
    "if __name__ == '__main__':\n",
    "    fptr = open(os.environ['OUTPUT_PATH'], 'w')\n",
    "\n",
    "    first_multiple_input = raw_input().rstrip().split()\n",
    "\n",
    "    x1 = int(first_multiple_input[0])\n",
    "\n",
    "    v1 = int(first_multiple_input[1])\n",
    "\n",
    "    x2 = int(first_multiple_input[2])\n",
    "\n",
    "    v2 = int(first_multiple_input[3])\n",
    "\n",
    "    result = kangaroo(x1, v1, x2, v2)\n",
    "\n",
    "    fptr.write(result + '\\n')\n",
    "\n",
    "    fptr.close()\n"
   ]
  }
 ],
 "metadata": {
  "language_info": {
   "name": "python"
  },
  "orig_nbformat": 4
 },
 "nbformat": 4,
 "nbformat_minor": 2
}
