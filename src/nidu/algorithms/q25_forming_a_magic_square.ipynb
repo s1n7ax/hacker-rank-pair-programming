{
 "cells": [
  {
   "cell_type": "markdown",
   "metadata": {},
   "source": [
    "# [Forming a Magic Square](https://www.hackerrank.com/challenges/magic-square-forming/problem)"
   ]
  },
  {
   "cell_type": "code",
   "execution_count": null,
   "metadata": {},
   "outputs": [],
   "source": [
    "import math\n",
    "import os\n",
    "import random\n",
    "import re\n",
    "import sys\n",
    "\n",
    "\n",
    "def formingMagicSquare(s):\n",
    "    magicsquare = [[[8,3,4],[1,5,9],[6,7,2]],\n",
    "                    [[6,1,8],[7,5,3],[2,9,4]],\n",
    "                    [[2,7,6],[9,5,1],[4,3,8]],\n",
    "                    [[4,9,2],[3,5,7],[8,1,6]],\n",
    "                    [[6,7,2],[1,5,9],[8,3,4]],\n",
    "                    [[8,1,6],[3,5,7],[4,9,2]],\n",
    "                    [[4,3,8],[9,5,1],[2,7,6]],\n",
    "                    [[2,9,4],[7,5,3],[6,1,8]]]\n",
    "    cost = 0\n",
    "    mincost = 0\n",
    "    same = True                 \n",
    "    for k in range(8):\n",
    "        if(magicsquare[k] == s):\n",
    "            mincost = 0\n",
    "            break\n",
    "        else:\n",
    "            cost = 0\n",
    "            for i in range(3):\n",
    "                for j in range(3):\n",
    "                    if(magicsquare[k][i][j] != s[i][j]):\n",
    "                        cost += abs(magicsquare[k][i][j] - s[i][j])\n",
    "            if(mincost == 0):\n",
    "                mincost = cost\n",
    "            if(mincost >= cost):\n",
    "                mincost = cost\n",
    "    return mincost\n",
    "\n",
    "if __name__ == '__main__':\n",
    "    fptr = open(os.environ['OUTPUT_PATH'], 'w')\n",
    "\n",
    "    s = []\n",
    "\n",
    "    for _ in range(3):\n",
    "        s.append(list(map(int, input().rstrip().split())))\n",
    "\n",
    "    result = formingMagicSquare(s)\n",
    "\n",
    "    fptr.write(str(result) + '\\n')\n",
    "\n",
    "    fptr.close()"
   ]
  }
 ],
 "metadata": {
  "kernelspec": {
   "display_name": "Python 3.10.2 64-bit",
   "language": "python",
   "name": "python3"
  },
  "language_info": {
   "name": "python",
   "version": "3.10.2"
  },
  "orig_nbformat": 4,
  "vscode": {
   "interpreter": {
    "hash": "f8f00a04387af4a38c5925046ae6e2d7856fe7b1f753b318d08709c23a24164e"
   }
  }
 },
 "nbformat": 4,
 "nbformat_minor": 2
}
