{
 "cells": [
  {
   "cell_type": "markdown",
   "metadata": {},
   "source": [
    "# [Picking Numbers](https://www.hackerrank.com/challenges/picking-numbers/problem)"
   ]
  },
  {
   "cell_type": "code",
   "execution_count": null,
   "metadata": {},
   "outputs": [],
   "source": [
    "import math\n",
    "import os\n",
    "import random\n",
    "import re\n",
    "import sys\n",
    "\n",
    "\n",
    "def pickingNumbers(a):\n",
    "    count = a.count(a[0])\n",
    "    if(count != len(a)):\n",
    "        sortedarr = sorted(a)\n",
    "        count = 0\n",
    "        for i in range(1,len(sortedarr)):\n",
    "            absval = abs(sortedarr[i-1] - sortedarr[i])\n",
    "            if(sortedarr[i-1] == sortedarr[i]):\n",
    "                subarrlen = sortedarr.count(sortedarr[i])\n",
    "            else:\n",
    "                subarrlen = sortedarr.count(sortedarr[i-1]) + sortedarr.count(sortedarr[i])\n",
    "            \n",
    "            if(absval <= 1 and subarrlen > count):\n",
    "                count = subarrlen\n",
    "    return(count)\n",
    "    \n",
    "\n",
    "if __name__ == '__main__':\n",
    "    fptr = open(os.environ['OUTPUT_PATH'], 'w')\n",
    "\n",
    "    n = int(input().strip())\n",
    "\n",
    "    a = list(map(int, input().rstrip().split()))\n",
    "\n",
    "    result = pickingNumbers(a)\n",
    "\n",
    "    fptr.write(str(result) + '\\n')\n",
    "\n",
    "    fptr.close()\n"
   ]
  }
 ],
 "metadata": {
  "kernelspec": {
   "display_name": "Python 3.10.2 64-bit",
   "language": "python",
   "name": "python3"
  },
  "language_info": {
   "name": "python",
   "version": "3.10.2"
  },
  "orig_nbformat": 4,
  "vscode": {
   "interpreter": {
    "hash": "f8f00a04387af4a38c5925046ae6e2d7856fe7b1f753b318d08709c23a24164e"
   }
  }
 },
 "nbformat": 4,
 "nbformat_minor": 2
}
